{
 "cells": [
  {
   "cell_type": "markdown",
   "id": "df2ebc1f-379a-48ff-ab65-c6f17d590ac8",
   "metadata": {
    "tags": []
   },
   "source": [
    "Leon Rode  \n",
    "August 6, 2023\n",
    "\n",
    "The following notebook implements canonical amplitude estimation (AE) as the final project for QIndia's Quantum Algorithms 101 course. The task was to implement AE from scratch to estimate the amplitude $\\alpha_2$ of the following:\n",
    "\n",
    "$$\\newcommand{\\ket}[1]{\\left|{#1}\\right\\rangle}$$\n",
    "$$\\newcommand{\\bra}[1]{\\left\\langle{#1}\\right|}$$\n",
    "$$\\ket{\\psi}=\\alpha_0\\ket{00}+\\alpha_1\\ket{01}+\\alpha_2\\ket{10}+\\alpha_3\\ket{11}.$$\n",
    "\n",
    "The algorithm and circuit used is adapted from the lecture \"Quantum Algorithms\" by Joran van Apeldoorn and Arjan Cornelissen."
   ]
  },
  {
   "cell_type": "code",
   "execution_count": 193,
   "id": "0186a4f8-d41d-4a1a-b7ea-55ad43445027",
   "metadata": {
    "tags": []
   },
   "outputs": [],
   "source": [
    "from qiskit import QuantumCircuit, QuantumRegister, Aer, execute\n",
    "from qiskit.circuit.library import MCXGate, QFT\n",
    "from qiskit.visualization import plot_histogram\n",
    "import matplotlib.pyplot as plt\n",
    "import numpy as np"
   ]
  },
  {
   "cell_type": "markdown",
   "id": "13f5e722-a69e-4241-ab5e-ec2d5a995c5a",
   "metadata": {
    "tags": []
   },
   "source": [
    "Here we initialize $\\ket{\\psi}$ with two rotation gates, resulting in\n",
    "\n",
    "$$U_{\\text{init}}\\ket{00}=\\ket{\\psi}=0.6932\\ket{00}+0.0696\\ket{01}+0.7138\\ket{10}+0.0716\\ket{11}.$$\n",
    "\n",
    "For this problem we want to output $0.7138$ as closely as possible."
   ]
  },
  {
   "cell_type": "code",
   "execution_count": 161,
   "id": "65455863-c364-41cf-9b1f-359c873457f0",
   "metadata": {
    "tags": []
   },
   "outputs": [],
   "source": [
    "def u_init() -> QuantumCircuit:\n",
    "    theta_0 = 0.2\n",
    "    theta_1 = 1.6\n",
    "    qc = QuantumCircuit(2)\n",
    "    qc.ry(theta_0, 0)\n",
    "    qc.ry(theta_1, 1)\n",
    "    return qc"
   ]
  },
  {
   "cell_type": "markdown",
   "id": "0066641e-0ccb-4f70-acf5-3a5a8cb8fd7b",
   "metadata": {},
   "source": [
    "We define\n",
    "\n",
    "$$U_{\\text{label}}\\ket{\\psi}=\\alpha_0\\ket{G}\\ket{1}+\\alpha_1\\ket{B}\\ket{0},$$\n",
    "\n",
    "introducing an ancilla qubit to help us identify our target state from the rest of the states. For this problem, we want to determine the amplitude of $\\ket{10}$, so we let $\\ket{G}=\\ket{10}$ and use a multi-controlled bit flip to set the ancilla qubit to 1 if the state is 10.\n",
    "\n",
    "We then let $$A=U_{\\text{label}}U_{\\text{init}}$$ and combine the circuits of the unitaries."
   ]
  },
  {
   "cell_type": "code",
   "execution_count": 195,
   "id": "b8ce64de-3209-49cf-b3bd-a3a8c53bcffd",
   "metadata": {
    "tags": []
   },
   "outputs": [],
   "source": [
    "def a_unitary() -> QuantumCircuit:\n",
    "    qc = QuantumCircuit(3)\n",
    "    qc = qc.compose(u_init(), [0, 1])\n",
    "    qc.append(MCXGate(2, ctrl_state=\"10\"), [0, 1, 2])\n",
    "    return qc"
   ]
  },
  {
   "cell_type": "markdown",
   "id": "f33c4c98-be1e-4ae2-925d-8de6c130a554",
   "metadata": {},
   "source": [
    "Then we define the circuit for the inverse of $A$."
   ]
  },
  {
   "cell_type": "code",
   "execution_count": 163,
   "id": "e3cb1902-d016-4019-96ae-f77d6907c926",
   "metadata": {
    "tags": []
   },
   "outputs": [],
   "source": [
    "a_dagger = a_unitary().inverse()"
   ]
  },
  {
   "cell_type": "markdown",
   "id": "032de710-001e-49fc-a394-013834a196e4",
   "metadata": {},
   "source": [
    "Note that $\\ket{G}\\ket{1}$ and $\\ket{B}\\ket{0}$ are orthogonal states. This means that they form a two-dimensional subspace as bases. The problem can now be approached geometrically using this fact.\n",
    "\n",
    "The Grover operator $Q$ is defined as $$Q=AS_0A^{\\dagger}S_{B0},$$ where $S_{B0}$ is the reflection of $\\ket{\\psi}$ over the vector $\\ket{B}\\ket{0}$, and $S_{0}$ is the reflection of $\\psi$ over the all zero vector. We construct these unitary matrices below and combine them into one circuit."
   ]
  },
  {
   "cell_type": "code",
   "execution_count": 164,
   "id": "0bd2793b-393d-4a77-843c-eb1c60176ead",
   "metadata": {
    "tags": []
   },
   "outputs": [],
   "source": [
    "def s_b0_unitary():\n",
    "    # S_B0 = 2|B>|0><B|<0|-I = Z * I * I\n",
    "    # Geometrically, this unitary changes theta to -theta, negating the \n",
    "    # amplitude in front of |G>|1>, which is produced by applying a Z gate.\n",
    "    qc = QuantumCircuit(3)\n",
    "    qc.z(2)\n",
    "    return qc"
   ]
  },
  {
   "cell_type": "code",
   "execution_count": 196,
   "id": "1d9091dc-64a4-4d19-b5a0-21712293fcb1",
   "metadata": {
    "tags": []
   },
   "outputs": [],
   "source": [
    "# Construction of the full Q operator.\n",
    "\n",
    "def q_unitary() -> QuantumCircuit:\n",
    "    q = QuantumCircuit(3)\n",
    "    \n",
    "    q = q.compose(s_b0_unitary(), [0, 1, 2])\n",
    "    q = q.compose(a_dagger, [0, 1, 2])\n",
    "    \n",
    "    # S_0 = 2|000><000|-I\n",
    "    unitary = [[1, 0, 0, 0, 0, 0, 0, 0], \n",
    "               [0, -1, 0, 0, 0, 0, 0, 0],\n",
    "               [0, 0, -1, 0, 0, 0, 0, 0],\n",
    "               [0, 0, 0, -1, 0, 0, 0, 0],\n",
    "               [0, 0, 0, 0, -1, 0, 0, 0],\n",
    "               [0, 0, 0, 0, 0, -1, 0, 0],\n",
    "               [0, 0, 0, 0, 0, 0, -1, 0],\n",
    "               [0, 0, 0, 0, 0, 0, 0, -1]]\n",
    "    q.unitary(unitary, [0, 1, 2])\n",
    "    \n",
    "    q = q.compose(a_unitary(), [0, 1, 2])\n",
    "    return q"
   ]
  },
  {
   "cell_type": "code",
   "execution_count": 166,
   "id": "77b7291b-47ab-403d-a4ff-5c6d2a5ebcf7",
   "metadata": {
    "tags": []
   },
   "outputs": [],
   "source": [
    "def qft_dagger(qc, n):\n",
    "    # Applies inverse QFT on the first n qubits\n",
    "    for i in range(n):  \n",
    "        for j in range(i):\n",
    "            qc.cp(-np.pi/(2**(i-j)),n-j-1,n-i-1)\n",
    "        qc.h(n-i-1)"
   ]
  },
  {
   "cell_type": "markdown",
   "id": "0628ca6f-bdc8-43ff-b29e-573b47449660",
   "metadata": {},
   "source": [
    "Next we perform phase estimation (PE) on $Q$ using the starting state $\\ket{\\psi}$. This works even though $\\ket{\\psi}$ may not be an eigenvector of $Q$ because of linearity:\n",
    "\n",
    "Let $\\ket{\\psi}$ be written as a superposition of $Q$'s eigenvectors $\\ket{b_0}$ and $\\ket{b_1}$:\n",
    "\n",
    "$$\\ket{\\psi}=c_0\\ket{b_0}+c_1\\ket{b_1}.$$\n",
    "\n",
    "Then\n",
    "\n",
    "$$Q\\ket{\\psi}=c_0Q\\ket{b_0}+c_1Q\\ket{b_1}.$$\n",
    "$$=c_0\\left(e^{i2\\pi\\theta_0}\\right)\\ket{b_0}+c_1\\left({e^{i2\\pi\\theta_1}}\\right)\\ket{b_1}.$$\n",
    "\n",
    "Then by running PE we have either $\\theta_0$ or $\\theta_1$ written in the evaluation bits at random."
   ]
  },
  {
   "cell_type": "code",
   "execution_count": 167,
   "id": "dcd2462f-df9c-40e3-915c-be8a42ca8a80",
   "metadata": {
    "tags": []
   },
   "outputs": [],
   "source": [
    "def amplitude_estimation(eval_bits: int = 3) -> QuantumCircuit:\n",
    "    num_qubits = eval_bits + 3 # + 3 for |psi>\n",
    "    est = QuantumCircuit(eval_bits + 3, eval_bits) \n",
    "    est = est.compose(a_unitary(), range(num_qubits - 3, num_qubits))\n",
    "    \n",
    "    est.h(range(0, eval_bits))\n",
    "    \n",
    "    q_controlled = q_unitary().to_gate().control()\n",
    "    \n",
    "    for i in range(eval_bits, 0, -1):\n",
    "        for x in range(2 ** (i-1)):\n",
    "            est.append(q_controlled, [i-1] + list(range(eval_bits, num_qubits)))\n",
    "    qft_dagger(est, eval_bits)\n",
    "    \n",
    "    for i in range(eval_bits):\n",
    "        est.measure(i, i)\n",
    "    \n",
    "    return est"
   ]
  },
  {
   "cell_type": "code",
   "execution_count": 168,
   "id": "00f56ba5-8499-4cd7-929c-e7a2e432dad1",
   "metadata": {
    "tags": []
   },
   "outputs": [
    {
     "data": {
      "image/png": "[encoded data removed]",
      "text/plain": [
       "<Figure size 2210.55x1287.61 with 1 Axes>"
      ]
     },
     "execution_count": 168,
     "metadata": {},
     "output_type": "execute_result"
    }
   ],
   "source": [
    "circuit = amplitude_estimation()\n",
    "circuit.draw()"
   ]
  },
  {
   "cell_type": "code",
   "execution_count": 197,
   "id": "0f6886cc-e77b-4b58-a5a6-631961a899e0",
   "metadata": {
    "tags": []
   },
   "outputs": [
    {
     "data": {
      "image/png": "[encoded data removed]",
      "text/plain": [
       "<Figure size 900x500 with 1 Axes>"
      ]
     },
     "execution_count": 197,
     "metadata": {},
     "output_type": "execute_result"
    }
   ],
   "source": [
    "sim = Aer.get_backend(\"aer_simulator\")\n",
    "shots = 8192\n",
    "counts = execute(circuit, sim, shots=shots).result().get_counts()\n",
    "plot_histogram(counts, figsize=(9,5))"
   ]
  },
  {
   "cell_type": "markdown",
   "id": "caab33b8-509b-45ab-b356-055a195c46e9",
   "metadata": {},
   "source": [
    "We see below that amplitude $\\approx0.707$ appears $>99$ percent of the time."
   ]
  },
  {
   "cell_type": "code",
   "execution_count": 190,
   "id": "dea4de47-30b8-4e4f-82c0-c3d891b95ee4",
   "metadata": {
    "tags": []
   },
   "outputs": [
    {
     "name": "stdout",
     "output_type": "stream",
     "text": [
      "Amplitude 0.3826834323650898 appeared with 0.01220703125 probability.\n",
      "Amplitude 0.9238795325112867 appeared with 0.0244140625 probability.\n",
      "Amplitude 0.9238795325112867 appeared with 0.06103515625 probability.\n",
      "Amplitude 1.0 appeared with 0.03662109375 probability.\n",
      "Amplitude 0.0 appeared with 0.01220703125 probability.\n",
      "Amplitude 0.7071067811865475 appeared with 50.2685546875 probability.\n",
      "Amplitude 0.3826834323650899 appeared with 0.03662109375 probability.\n",
      "Amplitude 0.7071067811865476 appeared with 49.54833984375 probability.\n"
     ]
    }
   ],
   "source": [
    "for key, value in counts.items():\n",
    "    s = 0\n",
    "    v = -1\n",
    "    \n",
    "    for c in key[::-1]: # key should be read right-to-left due to Qiskit's little endian notation\n",
    "        s += int(c) * (2 ** (v))\n",
    "        v -= 1\n",
    "    print(f\"Amplitude {np.sin(s * np.pi)} appeared with {100 * value/shots} probability.\")"
   ]
  },
  {
   "cell_type": "code",
   "execution_count": null,
   "id": "c14990c9-ecb6-4d4a-95c9-96dc5c70c5ef",
   "metadata": {},
   "outputs": [],
   "source": []
  }
 ],
 "metadata": {
  "kernelspec": {
   "display_name": "Python 3 (ipykernel)",
   "language": "python",
   "name": "python3"
  },
  "language_info": {
   "codemirror_mode": {
    "name": "ipython",
    "version": 3
   },
   "file_extension": ".py",
   "mimetype": "text/x-python",
   "name": "python",
   "nbconvert_exporter": "python",
   "pygments_lexer": "ipython3",
   "version": "3.10.8"
  },
  "widgets": {
   "application/vnd.jupyter.widget-state+json": {
    "state": {
     "0810ef957bd641d282b86d9c3cc6688f": {
      "model_module": "@jupyter-widgets/controls",
      "model_module_version": "2.0.0",
      "model_name": "HTMLModel",
      "state": {
       "layout": "IPY_MODEL_e127c4df3789432d99f9bf2c2ad96de5",
       "style": "IPY_MODEL_9c31c24a4186423997282b0b2a0a3934",
       "value": "<h5>Backend</h5>"
      }
     },
     "209293b6bf0d4c99b80200bd1ac771d7": {
      "model_module": "@jupyter-widgets/controls",
      "model_module_version": "2.0.0",
      "model_name": "HTMLModel",
      "state": {
       "layout": "IPY_MODEL_9a0ccd8bad584336a2569100a37e0b7e",
       "style": "IPY_MODEL_5041ae5fbe65419e982efd6bec95903c",
       "value": "<h5>Message</h5>"
      }
     },
     "363e101e521043b1925ce5715753cff3": {
      "model_module": "@jupyter-widgets/controls",
      "model_module_version": "2.0.0",
      "model_name": "HTMLStyleModel",
      "state": {
       "description_width": "",
       "font_size": null,
       "text_color": null
      }
     },
     "49a05b02988f43ffb73e6d0b6186ee0a": {
      "model_module": "@jupyter-widgets/base",
      "model_module_version": "2.0.0",
      "model_name": "LayoutModel",
      "state": {
       "grid_template_areas": "\n                                       \". . . . right \"\n                                        ",
       "grid_template_columns": "20% 20% 20% 20% 20%",
       "width": "100%"
      }
     },
     "49d2569ad40c4ae48eb2b752afbd026e": {
      "model_module": "@jupyter-widgets/controls",
      "model_module_version": "2.0.0",
      "model_name": "HTMLStyleModel",
      "state": {
       "description_width": "",
       "font_size": null,
       "text_color": null
      }
     },
     "4b169ae56de64004a7455d06c1d07d5d": {
      "model_module": "@jupyter-widgets/base",
      "model_module_version": "2.0.0",
      "model_name": "LayoutModel",
      "state": {
       "width": "190px"
      }
     },
     "5041ae5fbe65419e982efd6bec95903c": {
      "model_module": "@jupyter-widgets/controls",
      "model_module_version": "2.0.0",
      "model_name": "HTMLStyleModel",
      "state": {
       "description_width": "",
       "font_size": null,
       "text_color": null
      }
     },
     "63e1bc2fefe24de385e90aa67289dbe0": {
      "model_module": "@jupyter-widgets/base",
      "model_module_version": "2.0.0",
      "model_name": "LayoutModel",
      "state": {
       "width": "70px"
      }
     },
     "66df735a13f345ae8e0e130fc9cfa871": {
      "model_module": "@jupyter-widgets/controls",
      "model_module_version": "2.0.0",
      "model_name": "HTMLModel",
      "state": {
       "layout": "IPY_MODEL_4b169ae56de64004a7455d06c1d07d5d",
       "style": "IPY_MODEL_a5d5778636c847cea3764a298c032c3d",
       "value": "<h5>Job ID</h5>"
      }
     },
     "71fd40f0c99143bbab69d38ca15b9f20": {
      "model_module": "@jupyter-widgets/controls",
      "model_module_version": "2.0.0",
      "model_name": "GridBoxModel",
      "state": {
       "children": [
        "IPY_MODEL_cf1f1cae7880455e8b048ddaa645a14e"
       ],
       "layout": "IPY_MODEL_49a05b02988f43ffb73e6d0b6186ee0a"
      }
     },
     "73750e498eab4d42bf1bb4fd10b507fd": {
      "model_module": "@jupyter-widgets/controls",
      "model_module_version": "2.0.0",
      "model_name": "HTMLModel",
      "state": {
       "layout": "IPY_MODEL_debc8a3d071845cfa5e23e735d0b3d79",
       "style": "IPY_MODEL_363e101e521043b1925ce5715753cff3",
       "value": "<h5>Status</h5>"
      }
     },
     "78bd0f83555343b99bbcdcdfb1f1ad43": {
      "model_module": "@jupyter-widgets/controls",
      "model_module_version": "2.0.0",
      "model_name": "HTMLModel",
      "state": {
       "layout": "IPY_MODEL_63e1bc2fefe24de385e90aa67289dbe0",
       "style": "IPY_MODEL_49d2569ad40c4ae48eb2b752afbd026e",
       "value": "<h5>Queue</h5>"
      }
     },
     "82092e6943d043c7a1085d6940c1fa5b": {
      "model_module": "@jupyter-widgets/base",
      "model_module_version": "2.0.0",
      "model_name": "LayoutModel",
      "state": {
       "margin": "0px 0px 10px 0px"
      }
     },
     "8bd88bf7dda641a7aee5a467c50dd369": {
      "model_module": "@jupyter-widgets/controls",
      "model_module_version": "2.0.0",
      "model_name": "HTMLModel",
      "state": {
       "layout": "IPY_MODEL_82092e6943d043c7a1085d6940c1fa5b",
       "style": "IPY_MODEL_e541cfbebfca440cbd2526b22f65a270",
       "value": "<p style='font-family: IBM Plex Sans, Arial, Helvetica, sans-serif; font-size: 20px; font-weight: medium;'>Circuit Properties</p>"
      }
     },
     "8db98e6790214d60a61ba5ebfb50c684": {
      "model_module": "@jupyter-widgets/controls",
      "model_module_version": "2.0.0",
      "model_name": "ButtonStyleModel",
      "state": {
       "font_family": null,
       "font_size": null,
       "font_style": null,
       "font_variant": null,
       "font_weight": null,
       "text_color": null,
       "text_decoration": null
      }
     },
     "9a0ccd8bad584336a2569100a37e0b7e": {
      "model_module": "@jupyter-widgets/base",
      "model_module_version": "2.0.0",
      "model_name": "LayoutModel",
      "state": {}
     },
     "9c31c24a4186423997282b0b2a0a3934": {
      "model_module": "@jupyter-widgets/controls",
      "model_module_version": "2.0.0",
      "model_name": "HTMLStyleModel",
      "state": {
       "description_width": "",
       "font_size": null,
       "text_color": null
      }
     },
     "a5d5778636c847cea3764a298c032c3d": {
      "model_module": "@jupyter-widgets/controls",
      "model_module_version": "2.0.0",
      "model_name": "HTMLStyleModel",
      "state": {
       "description_width": "",
       "font_size": null,
       "text_color": null
      }
     },
     "a89d30d5367944c197fe020adad6e25a": {
      "model_module": "@jupyter-widgets/base",
      "model_module_version": "2.0.0",
      "model_name": "LayoutModel",
      "state": {
       "margin": "0px 0px 0px 37px",
       "width": "600px"
      }
     },
     "cf1f1cae7880455e8b048ddaa645a14e": {
      "model_module": "@jupyter-widgets/controls",
      "model_module_version": "2.0.0",
      "model_name": "ButtonModel",
      "state": {
       "button_style": "primary",
       "description": "Clear",
       "layout": "IPY_MODEL_db76bf88036a4c00a05bcc42abf0bf94",
       "style": "IPY_MODEL_8db98e6790214d60a61ba5ebfb50c684",
       "tooltip": null
      }
     },
     "db76bf88036a4c00a05bcc42abf0bf94": {
      "model_module": "@jupyter-widgets/base",
      "model_module_version": "2.0.0",
      "model_name": "LayoutModel",
      "state": {
       "grid_area": "right",
       "padding": "0px 0px 0px 0px",
       "width": "70px"
      }
     },
     "debc8a3d071845cfa5e23e735d0b3d79": {
      "model_module": "@jupyter-widgets/base",
      "model_module_version": "2.0.0",
      "model_name": "LayoutModel",
      "state": {
       "width": "95px"
      }
     },
     "e127c4df3789432d99f9bf2c2ad96de5": {
      "model_module": "@jupyter-widgets/base",
      "model_module_version": "2.0.0",
      "model_name": "LayoutModel",
      "state": {
       "width": "145px"
      }
     },
     "e541cfbebfca440cbd2526b22f65a270": {
      "model_module": "@jupyter-widgets/controls",
      "model_module_version": "2.0.0",
      "model_name": "HTMLStyleModel",
      "state": {
       "description_width": "",
       "font_size": null,
       "text_color": null
      }
     },
     "e7fbbd88586a4f859baa8258b6a4dbd1": {
      "model_module": "@jupyter-widgets/controls",
      "model_module_version": "2.0.0",
      "model_name": "HBoxModel",
      "state": {
       "children": [
        "IPY_MODEL_66df735a13f345ae8e0e130fc9cfa871",
        "IPY_MODEL_0810ef957bd641d282b86d9c3cc6688f",
        "IPY_MODEL_73750e498eab4d42bf1bb4fd10b507fd",
        "IPY_MODEL_78bd0f83555343b99bbcdcdfb1f1ad43",
        "IPY_MODEL_209293b6bf0d4c99b80200bd1ac771d7"
       ],
       "layout": "IPY_MODEL_a89d30d5367944c197fe020adad6e25a"
      }
     }
    },
    "version_major": 2,
    "version_minor": 0
   }
  }
 },
 "nbformat": 4,
 "nbformat_minor": 5
}
